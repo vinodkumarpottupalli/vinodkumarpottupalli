{
 "cells": [
  {
   "cell_type": "code",
   "execution_count": null,
   "metadata": {},
   "outputs": [],
   "source": [
    "from flask import Flask\n",
    "\n",
    "app = Flask(__name__)\n",
    "\n",
    "@app.route(\"/index/<name>\", methods = ['GET'])\n",
    "def getFrom(request):\n",
    "    try:\n",
    "        print(request)\n",
    "        if request.GET['filename']:\n",
    "            file = request.GET['filename']\n",
    "            print(file)\n",
    "        \n",
    "        print(\"llllllllllllllll\")\n",
    "        return {\"data\": \"Uploaded\"}\n",
    "    except Exception as e:\n",
    "        print(e)\n",
    "        \n",
    "if __name__ == '__main__':\n",
    "    app.run()"
   ]
  },
  {
   "cell_type": "code",
   "execution_count": 1,
   "metadata": {},
   "outputs": [
    {
     "data": {
      "text/plain": [
       "1"
      ]
     },
     "execution_count": 1,
     "metadata": {},
     "output_type": "execute_result"
    }
   ],
   "source": [
    "i = \"abcabd\"\n",
    "\n",
    "def longestSubstring(data, index):\n",
    "    if index < len(data):\n",
    "        return 1\n",
    "    else:\n",
    "        op1 = longestSubstring(data, index+1)\n",
    "        op2 = longestSubstring(data, index)\n",
    "        return max(op1, op2)\n",
    "\n",
    "def longest(data):\n",
    "    for each in data:\n",
    "        \n",
    "\n",
    "\n",
    "\n",
    "longestSubstring(i, 0)"
   ]
  },
  {
   "cell_type": "code",
   "execution_count": null,
   "metadata": {},
   "outputs": [],
   "source": []
  }
 ],
 "metadata": {
  "kernelspec": {
   "display_name": "venv",
   "language": "python",
   "name": "python3"
  },
  "language_info": {
   "codemirror_mode": {
    "name": "ipython",
    "version": 3
   },
   "file_extension": ".py",
   "mimetype": "text/x-python",
   "name": "python",
   "nbconvert_exporter": "python",
   "pygments_lexer": "ipython3",
   "version": "3.9.10"
  }
 },
 "nbformat": 4,
 "nbformat_minor": 2
}
