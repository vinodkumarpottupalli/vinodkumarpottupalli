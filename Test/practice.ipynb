{
 "cells": [
  {
   "cell_type": "code",
   "execution_count": null,
   "metadata": {},
   "outputs": [],
   "source": [
    "def find_l(ele):\n",
    "    largest = ele[0]\n",
    "    for num in ele:\n",
    "        if largest < num:\n",
    "            largest = num\n",
    "\n",
    "    return largest\n",
    "\n",
    "find_l([1,2,3,5,6,4])"
   ]
  },
  {
   "cell_type": "code",
   "execution_count": null,
   "metadata": {},
   "outputs": [],
   "source": [
    "def prime(number):\n",
    "    if number < 2:\n",
    "        return False\n",
    "    else:\n",
    "        for i in range(2, number):\n",
    "            if number % i == 0:\n",
    "                return False\n",
    "        else:\n",
    "            return True\n",
    "\n",
    "prime(4)"
   ]
  },
  {
   "cell_type": "code",
   "execution_count": null,
   "metadata": {},
   "outputs": [],
   "source": [
    "def second_largest(numbers):\n",
    "    largest = float('-inf')\n",
    "    second_largest = float('-inf')\n",
    "    for num in numbers:\n",
    "        if num > largest:\n",
    "            second_largest = largest\n",
    "            largest = num\n",
    "        elif num > second_largest and num != largest:\n",
    "            second_largest = num\n",
    "    return second_largest\n",
    "\n",
    "second_largest([1,2,3,4])"
   ]
  },
  {
   "cell_type": "code",
   "execution_count": null,
   "metadata": {},
   "outputs": [],
   "source": [
    "import re\n",
    "str = \"C O D E\"\n",
    "spc = re.compile(r'\\s+')\n",
    "re.sub(spc, '', str)"
   ]
  },
  {
   "cell_type": "code",
   "execution_count": null,
   "metadata": {},
   "outputs": [],
   "source": [
    "f = 3\n",
    "h = 2*f-1\n",
    "for i in range(1, 2*f, 2):\n",
    "    print('{:^{}}'.format('*'*i, h))"
   ]
  },
  {
   "cell_type": "code",
   "execution_count": null,
   "metadata": {},
   "outputs": [],
   "source": [
    "class monkey:\n",
    "    def patch(self):\n",
    "          print (\"patch() is being called\")\n",
    "\n",
    "def monk_p(self):\n",
    "    print (\"monk_p() is being called\")\n",
    "\n",
    "# replacing address of \"patch\" with \"monk_p\"\n",
    "monkey.patch = monk_p\n",
    "\n",
    "obj = monkey()\n",
    "\n",
    "obj.patch()\n",
    "# monk_p() is being called"
   ]
  },
  {
   "cell_type": "code",
   "execution_count": null,
   "metadata": {},
   "outputs": [],
   "source": [
    "s = \"C O D E\"\n",
    "s.replace(' ', '*')"
   ]
  },
  {
   "cell_type": "code",
   "execution_count": null,
   "metadata": {},
   "outputs": [],
   "source": [
    "d = {1:2, 2:3,3:4,4:5}\n",
    "{key: value for (key, value) in d.items() if value % 2 == 0}"
   ]
  },
  {
   "cell_type": "code",
   "execution_count": null,
   "metadata": {},
   "outputs": [],
   "source": [
    "class Test():\n",
    "    def __init__(self, name, number, account) -> None:\n",
    "        self.__name = name\n",
    "        self.number = number\n",
    "        self._account = account\n",
    "\n",
    "    def update(self):\n",
    "        self.__name = \"Vrushank Sai\"\n",
    "        self.number = 100\n",
    "        self._account = 1\n",
    "\n",
    "    def get(self):\n",
    "        return self.__name\n",
    "\n",
    "\n",
    "t = Test(\"vicky\", 1, 100)\n",
    "t.__name = \"Vinod\"\n",
    "print(t.get())\n",
    "print(t.__name)\n",
    "print(t.get())\n",
    "t.update()\n",
    "print(t.__name)\n",
    "print(t.get())\n",
    "\n",
    "    "
   ]
  },
  {
   "cell_type": "code",
   "execution_count": null,
   "metadata": {},
   "outputs": [],
   "source": [
    "def find_nearest_exit(board, start_row, start_col):\n",
    "    rows, cols = len(board), len(board[0])\n",
    "    directions = [(0, 1), (0, -1), (1, 0), (-1, 0)]  # Right, Left, Down, Up\n",
    "\n",
    "    def is_valid(row, col):\n",
    "        return 0 <= row < rows and 0 <= col < cols and board[row][col] == '0'\n",
    "\n",
    "    queue = [(start_row, start_col, 0)]  # (row, col, distance)\n",
    "    visited = set([(start_row, start_col)])\n",
    "\n",
    "    while queue:\n",
    "        row, col, distance = queue.pop(0)\n",
    "\n",
    "        #if row == 0 or row == rows - 1 or col == 0 or col == cols - 1:\n",
    "        if row == rows - 1 or col == cols - 1:\n",
    "            return (row, col)  # Found an exit\n",
    "\n",
    "        for dr, dc in directions:\n",
    "            new_row, new_col = row + dr, col + dc\n",
    "            if is_valid(new_row, new_col) and (new_row, new_col) not in visited:\n",
    "                queue.append((new_row, new_col, distance + 1))\n",
    "                visited.add((new_row, new_col))\n",
    "\n",
    "    return None  # No reachable exit\n",
    "\n",
    "# Example usage:\n",
    "board = [\n",
    "    ['+', '+', '+', '+', '+', '+', '+', '0', '0'],\n",
    "    ['+', '+', '0', '0', '0', '0', '0', '+', '+'],\n",
    "    ['0', '0', '0', '0', '0', '+', '+', '0', '+'],\n",
    "    ['+', '+', '0', '+', '+', '+', '+', '0', '0'],\n",
    "    ['+', '+', '0', '0', '0', '0', '0', '0', '+'],\n",
    "    ['+', '+', '0', '+', '+', '0', '+', '0', '+']\n",
    "]\n",
    "start_row, start_col = 2, 0\n",
    "nearest_exit = find_nearest_exit(board, start_row, start_col)\n",
    "print(f\"Nearest exit coordinates: {nearest_exit}\")\n"
   ]
  },
  {
   "cell_type": "code",
   "execution_count": 5,
   "metadata": {},
   "outputs": [],
   "source": [
    "import time\n",
    "\n",
    "def retry(max_retries, wait_time):\n",
    "    def decorator(func):\n",
    "        def wrapper(*args, **kwargs):\n",
    "            retries = 0\n",
    "            if retries < max_retries:\n",
    "                try:\n",
    "                    result = func(*args, **kwargs)\n",
    "                    return result\n",
    "                except Exception as e:\n",
    "                    retries += 1\n",
    "                    time.sleep(wait_time)\n",
    "            else:\n",
    "              raise Exception(f\"Max retries of function {func} exceeded\")\n",
    "        return wrapper\n",
    "    return decorator\n",
    "\n",
    "@retry(max_retries=5, wait_time=1)\n",
    "def example_function():\n",
    "    # function that may raise an exception\n",
    "    raise Exception(\"Vinod\")\n",
    "\n",
    "example_function()"
   ]
  },
  {
   "cell_type": "code",
   "execution_count": null,
   "metadata": {},
   "outputs": [],
   "source": []
  }
 ],
 "metadata": {
  "kernelspec": {
   "display_name": "venv",
   "language": "python",
   "name": "python3"
  },
  "language_info": {
   "codemirror_mode": {
    "name": "ipython",
    "version": 3
   },
   "file_extension": ".py",
   "mimetype": "text/x-python",
   "name": "python",
   "nbconvert_exporter": "python",
   "pygments_lexer": "ipython3",
   "version": "3.9.10"
  }
 },
 "nbformat": 4,
 "nbformat_minor": 2
}
