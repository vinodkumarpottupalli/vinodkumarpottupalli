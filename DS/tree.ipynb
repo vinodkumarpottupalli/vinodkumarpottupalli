{
 "cells": [
  {
   "cell_type": "markdown",
   "metadata": {},
   "source": [
    "Tree Implementation"
   ]
  },
  {
   "cell_type": "code",
   "execution_count": null,
   "metadata": {},
   "outputs": [],
   "source": [
    "class Node():\n",
    "    def __init__(self, value) -> None:\n",
    "        self.value = value\n",
    "        self.left = None\n",
    "        self.right = None"
   ]
  },
  {
   "cell_type": "code",
   "execution_count": null,
   "metadata": {},
   "outputs": [],
   "source": [
    "class BinarySearchTree():\n",
    "    def __init__(self) -> None:\n",
    "        self.root = None\n",
    "\n",
    "    def insert(self, value):\n",
    "        newnode = Node(value)\n",
    "        if self.root is None:\n",
    "            self.root = newnode\n",
    "            return True\n",
    "        temp = self.root\n",
    "        while True:\n",
    "            if newnode.value == temp.value:\n",
    "                return False\n",
    "            if newnode.value < temp.value:\n",
    "                if temp.left is None:\n",
    "                    temp.left = newnode\n",
    "                    return True\n",
    "                temp = temp.left\n",
    "            else:\n",
    "                if temp.right is None:\n",
    "                    temp.right = newnode\n",
    "                    return True\n",
    "                temp = temp.right\n",
    "\n",
    "    def contains(self, value):\n",
    "        temp = self.root\n",
    "        while temp is not None:\n",
    "            if value < temp.value:\n",
    "                temp = temp.left\n",
    "            elif value > temp.value:\n",
    "                temp = temp.right\n",
    "            else:\n",
    "                return True\n",
    "        return False"
   ]
  },
  {
   "cell_type": "code",
   "execution_count": null,
   "metadata": {},
   "outputs": [],
   "source": [
    "new_tree = BinarySearchTree()\n",
    "new_tree.insert(2)\n",
    "new_tree.insert(3)\n",
    "new_tree.insert(1)\n",
    "\n",
    "print(new_tree.root.value)\n",
    "print(new_tree.root.left.value)\n",
    "print(new_tree.root.right.value)\n",
    "print(new_tree.contains(3))"
   ]
  },
  {
   "cell_type": "code",
   "execution_count": null,
   "metadata": {},
   "outputs": [],
   "source": []
  }
 ],
 "metadata": {
  "interpreter": {
   "hash": "b7919e5b123e92094821be646ade47a0ab1dbdf11cdf98098e656c9d8b9a9943"
  },
  "kernelspec": {
   "display_name": "Python 3.8.10 64-bit ('env': venv)",
   "language": "python",
   "name": "python3"
  },
  "language_info": {
   "codemirror_mode": {
    "name": "ipython",
    "version": 3
   },
   "file_extension": ".py",
   "mimetype": "text/x-python",
   "name": "python",
   "nbconvert_exporter": "python",
   "pygments_lexer": "ipython3",
   "version": "3.8.10"
  },
  "orig_nbformat": 4
 },
 "nbformat": 4,
 "nbformat_minor": 2
}
