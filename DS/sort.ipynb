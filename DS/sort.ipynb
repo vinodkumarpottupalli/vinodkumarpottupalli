{
 "cells": [
  {
   "cell_type": "markdown",
   "metadata": {},
   "source": [
    "Bubble Sort"
   ]
  },
  {
   "cell_type": "code",
   "execution_count": 1,
   "metadata": {},
   "outputs": [
    {
     "name": "stdout",
     "output_type": "stream",
     "text": [
      "[1, 2, 3, 4, 5, 6]\n"
     ]
    }
   ],
   "source": [
    "def bubble_sort(mylist):\n",
    "    for i in range(len(mylist) - 1, 0, -1):\n",
    "        for j in range(i):\n",
    "            if mylist[j] > mylist[j+1]:\n",
    "                temp = mylist[j]\n",
    "                mylist[j] = mylist[j+1]\n",
    "                mylist[j+1] = temp\n",
    "    return mylist\n",
    "\n",
    "print(bubble_sort([4,2,6,5,1,3]))"
   ]
  },
  {
   "cell_type": "markdown",
   "metadata": {},
   "source": [
    "Selection Sort"
   ]
  },
  {
   "cell_type": "code",
   "execution_count": 3,
   "metadata": {},
   "outputs": [
    {
     "data": {
      "text/plain": [
       "[1, 2, 3, 4, 5, 6]"
      ]
     },
     "execution_count": 3,
     "metadata": {},
     "output_type": "execute_result"
    }
   ],
   "source": [
    "def selection_sort(mylist):\n",
    "    for i in range(len(mylist) - 1):\n",
    "        min_index = i\n",
    "        for j in range(i+1, len(mylist)):\n",
    "            if mylist[j] < mylist[min_index]:\n",
    "                min_index = j\n",
    "        if i != min_index:\n",
    "            temp = mylist[i]\n",
    "            mylist[i] = mylist[min_index]\n",
    "            mylist[min_index] = temp\n",
    "    return mylist\n",
    "\n",
    "selection_sort([4,2,6,5,1,3]) \n",
    "\n"
   ]
  },
  {
   "cell_type": "markdown",
   "metadata": {},
   "source": [
    "Insertion Sort"
   ]
  },
  {
   "cell_type": "code",
   "execution_count": 5,
   "metadata": {},
   "outputs": [
    {
     "data": {
      "text/plain": [
       "[1, 2, 2, 3, 4, 5, 6]"
      ]
     },
     "execution_count": 5,
     "metadata": {},
     "output_type": "execute_result"
    }
   ],
   "source": [
    "def  insertion_sort(mylist):\n",
    "    for i in range(1, len(mylist)):\n",
    "        temp = mylist[i]\n",
    "        j = i - 1\n",
    "        while temp < mylist[j] and j > -1:\n",
    "            mylist[j+1] = mylist[j]\n",
    "            mylist[j] = temp\n",
    "            j-=1\n",
    "    return mylist\n",
    "\n",
    "insertion_sort([4,2,6,5,1,2,3])"
   ]
  },
  {
   "cell_type": "markdown",
   "metadata": {},
   "source": [
    "Merge Sort"
   ]
  },
  {
   "cell_type": "code",
   "execution_count": 10,
   "metadata": {},
   "outputs": [
    {
     "data": {
      "text/plain": [
       "[1, 2, 3, 4, 5, 6, 7, 8]"
      ]
     },
     "execution_count": 10,
     "metadata": {},
     "output_type": "execute_result"
    }
   ],
   "source": [
    "def merge(list1, list2):\n",
    "    combined = []\n",
    "    i = 0\n",
    "    j = 0\n",
    "    while i < len(list1) and j < len(list2):\n",
    "        if list1[i] < list2[j]:\n",
    "            combined.append(list1[i])\n",
    "            i+=1\n",
    "        else:\n",
    "            combined.append(list2[j])\n",
    "            j+=1\n",
    "    while i<len(list1):\n",
    "        combined.append(list1[i])\n",
    "        i+=1\n",
    "    while j<len(list2):\n",
    "        combined.append(list2[j])\n",
    "        j+=1\n",
    "    return combined\n",
    "\n",
    "merge([3,4,5,6], [1,2,7,8])"
   ]
  },
  {
   "cell_type": "code",
   "execution_count": 11,
   "metadata": {},
   "outputs": [
    {
     "data": {
      "text/plain": [
       "[1, 2, 3, 4, 5, 6]"
      ]
     },
     "execution_count": 11,
     "metadata": {},
     "output_type": "execute_result"
    }
   ],
   "source": [
    "def merge_sort(mylist):\n",
    "    if len(mylist) == 1:\n",
    "        return mylist\n",
    "    mid_index = int(len(mylist) / 2)\n",
    "    left = merge_sort(mylist[:mid_index])\n",
    "    right = merge_sort(mylist[mid_index:])\n",
    "\n",
    "    return merge(left, right)\n",
    "\n",
    "merge_sort([3,2,1,5,6,4])"
   ]
  },
  {
   "cell_type": "code",
   "execution_count": null,
   "metadata": {},
   "outputs": [],
   "source": []
  }
 ],
 "metadata": {
  "interpreter": {
   "hash": "85978ebf1cc601e3103929016cfc687b15326898e5f6b752ecdc8b02c601d07b"
  },
  "kernelspec": {
   "display_name": "Python 3.8.10 64-bit ('venv': venv)",
   "language": "python",
   "name": "python3"
  },
  "language_info": {
   "codemirror_mode": {
    "name": "ipython",
    "version": 3
   },
   "file_extension": ".py",
   "mimetype": "text/x-python",
   "name": "python",
   "nbconvert_exporter": "python",
   "pygments_lexer": "ipython3",
   "version": "3.8.10"
  },
  "orig_nbformat": 4
 },
 "nbformat": 4,
 "nbformat_minor": 2
}
