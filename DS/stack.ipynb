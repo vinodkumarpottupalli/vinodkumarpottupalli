{
 "cells": [
  {
   "cell_type": "markdown",
   "metadata": {},
   "source": [
    "Stack "
   ]
  },
  {
   "cell_type": "code",
   "execution_count": null,
   "metadata": {},
   "outputs": [],
   "source": [
    "class Node():\n",
    "    def __init__(self, value):\n",
    "        self.value = value\n",
    "        self.next = None"
   ]
  },
  {
   "cell_type": "code",
   "execution_count": null,
   "metadata": {},
   "outputs": [],
   "source": [
    "class Stack():\n",
    "    def __init__(self, value) -> None:\n",
    "        newnode = Node(value)\n",
    "        self.top = newnode\n",
    "        self.height = 1\n",
    "\n",
    "    def print_stack(self):\n",
    "        temp = self.top\n",
    "        while temp is not None:\n",
    "            print(temp.value)\n",
    "            temp = temp.next\n",
    "\n",
    "    def push(self, value):\n",
    "        newnode = Node(value)\n",
    "        if self.height == 0:\n",
    "            self.top = newnode\n",
    "        else:\n",
    "            newnode.next = self.top\n",
    "            self.top = newnode\n",
    "        self.height += 1\n",
    "\n",
    "    def pop(self):\n",
    "        if self.height == 0:\n",
    "            return None\n",
    "        else:\n",
    "            temp = self.top\n",
    "            self.top = self.top.next\n",
    "            temp.next = None\n",
    "            self.height -= 1\n",
    "            return temp\n",
    "\n",
    "s = Stack(4)\n",
    "s.push(5)\n",
    "s.pop()\n",
    "#s.pop()\n",
    "s.print_stack()"
   ]
  },
  {
   "cell_type": "markdown",
   "metadata": {},
   "source": [
    "Stack Implementation Using List"
   ]
  },
  {
   "cell_type": "code",
   "execution_count": null,
   "metadata": {},
   "outputs": [],
   "source": [
    "class Stack():\n",
    "    def __init__(self) -> None:\n",
    "        self.stack_list = []\n",
    "\n",
    "    def push(self, value):\n",
    "        self.stack_list.append(value)\n",
    "\n",
    "    def is_empty(self):\n",
    "        return len(self.stack_list) == 0\n",
    "\n",
    "    def pop(self):\n",
    "        if self.is_empty():\n",
    "            return None\n",
    "        else:\n",
    "            return self.stack_list.pop()\n"
   ]
  },
  {
   "cell_type": "code",
   "execution_count": null,
   "metadata": {},
   "outputs": [],
   "source": [
    "def is_balanced_parentheses(parentheses):\n",
    "    s = Stack()\n",
    "    for i in list(parentheses):\n",
    "        if i == '(':\n",
    "            s.push(i)\n",
    "        else:\n",
    "            if s.is_empty() or s.pop() != '(':\n",
    "                return False\n",
    "    return s.is_empty()\n",
    "\n",
    "is_balanced_parentheses('(())')"
   ]
  },
  {
   "cell_type": "code",
   "execution_count": null,
   "metadata": {},
   "outputs": [],
   "source": []
  }
 ],
 "metadata": {
  "interpreter": {
   "hash": "b7919e5b123e92094821be646ade47a0ab1dbdf11cdf98098e656c9d8b9a9943"
  },
  "kernelspec": {
   "display_name": "Python 3.8.10 64-bit ('env': venv)",
   "language": "python",
   "name": "python3"
  },
  "language_info": {
   "codemirror_mode": {
    "name": "ipython",
    "version": 3
   },
   "file_extension": ".py",
   "mimetype": "text/x-python",
   "name": "python",
   "nbconvert_exporter": "python",
   "pygments_lexer": "ipython3",
   "version": "3.8.10"
  },
  "orig_nbformat": 4
 },
 "nbformat": 4,
 "nbformat_minor": 2
}
