{
 "cells": [
  {
   "cell_type": "markdown",
   "metadata": {},
   "source": [
    "Big O notation"
   ]
  },
  {
   "cell_type": "code",
   "execution_count": 1,
   "metadata": {},
   "outputs": [],
   "source": [
    "# Remove contants\n",
    "# Remove Non-Dominants\n",
    "# log n"
   ]
  },
  {
   "cell_type": "code",
   "execution_count": 3,
   "metadata": {},
   "outputs": [],
   "source": [
    "def print_items(n):\n",
    "    for i in range(n):\n",
    "        print(i)\n",
    "\n",
    "#print_items(10)\n",
    "# O(n)"
   ]
  },
  {
   "cell_type": "code",
   "execution_count": 4,
   "metadata": {},
   "outputs": [],
   "source": [
    "def print_items(n):\n",
    "    for i in range(n):\n",
    "        print(i)                   # n iterations\n",
    "    for j in range(n):\n",
    "        print(j)                   # n iterations\n",
    "\n",
    "# O(n + n)\n",
    "# O(2n) #based on first principal drop contants\n",
    "# O(n)"
   ]
  },
  {
   "cell_type": "markdown",
   "metadata": {},
   "source": []
  },
  {
   "cell_type": "code",
   "execution_count": 5,
   "metadata": {},
   "outputs": [],
   "source": [
    "def print_items(n):\n",
    "    for i in range(n):             # n iterations\n",
    "        for j in range(n):         # n iterations\n",
    "            print(i, j)\n",
    "\n",
    "# O(n * n)\n",
    "# O(n^2)"
   ]
  },
  {
   "cell_type": "code",
   "execution_count": 6,
   "metadata": {},
   "outputs": [],
   "source": [
    "def print_sum(n):\n",
    "    #return n + n # 1 \n",
    "    return n + n + n # 1\n",
    "\n",
    "# O(1)"
   ]
  },
  {
   "cell_type": "code",
   "execution_count": 7,
   "metadata": {},
   "outputs": [],
   "source": [
    "def print_items(n):\n",
    "    for i in range(n):             # n iterations\n",
    "        for j in range(n):         # n iterations\n",
    "            print(i, j)\n",
    "    for j in range(n):\n",
    "        print(j)                   # n iterations\n",
    "\n",
    "# O (n * n + n)\n",
    "# O(n^2 + n)\n",
    "#O(n^2) # based on second logic remove non-dominants"
   ]
  },
  {
   "cell_type": "markdown",
   "metadata": {},
   "source": [
    "Linked List"
   ]
  },
  {
   "cell_type": "code",
   "execution_count": 9,
   "metadata": {},
   "outputs": [
    {
     "name": "stdout",
     "output_type": "stream",
     "text": [
      "4\n",
      "10\n"
     ]
    }
   ],
   "source": [
    "#Constructor\n",
    "\n",
    "class Node:\n",
    "    def __init__(self, value):\n",
    "        self.value = value\n",
    "        self.next = None\n",
    "\n",
    "class LinkedList:\n",
    "    def __init__(self, value):\n",
    "        newnode = Node(value)\n",
    "        self.head = newnode\n",
    "        self.tail = newnode\n",
    "        self.length = 1\n",
    "\n",
    "    def print_list(self):\n",
    "        temp = self.head\n",
    "        while temp is not None:\n",
    "            print(temp.value)\n",
    "            temp = temp.next\n",
    "\n",
    "    def append(self, value):\n",
    "        new_node = Node(value)\n",
    "        self.tail.next = new_node\n",
    "        self.tail = new_node\n",
    "        self.length += 1\n",
    "\n",
    "    def pop(self):\n",
    "        if self.length == 0:\n",
    "            return None\n",
    "        if self.length == 1:\n",
    "            temp = self.head\n",
    "            self.head = None\n",
    "            self.tail = None\n",
    "            self.length -= 1\n",
    "            return temp\n",
    "\n",
    "        temp = self.head\n",
    "        while temp.next:\n",
    "            pre = temp\n",
    "            temp = temp.next\n",
    "        self.tail = pre\n",
    "        self.tail.next = None\n",
    "        self.length -= 1\n",
    "        if self.length == 0:\n",
    "            self.head = None\n",
    "            self.tail = None\n",
    "        return temp\n",
    "\n",
    "    def prepend(self, value):\n",
    "        newnode = Node(value)\n",
    "        if self.head == None:\n",
    "            self.head = newnode\n",
    "            self.tail = newnode\n",
    "        else:\n",
    "            newnode.next = self.head\n",
    "            self.head = newnode\n",
    "        self.length += 1\n",
    "\n",
    "    def pop_first(self):\n",
    "        if self.length == 0:\n",
    "            return 0\n",
    "        temp = self.head\n",
    "        self.head = self.head.next\n",
    "        temp.next = None\n",
    "        self.length -= 1\n",
    "        if self.length == 0:\n",
    "            self.tail = None\n",
    "        return temp\n",
    "\n",
    "    def get(self, index):\n",
    "        if index <=0 and index >= self.length:\n",
    "            return None\n",
    "        temp = self.head\n",
    "        for _ in range(index):\n",
    "            temp = temp.next\n",
    "        return temp\n",
    "\n",
    "    def set(self, index, value):\n",
    "        temp = self.get(index)\n",
    "        if temp:\n",
    "            temp.value = value\n",
    "            return True\n",
    "        return False\n",
    "\n",
    "    def insert(self, index, value):\n",
    "        if index <= 0 and index > self.length:\n",
    "            return False\n",
    "        if index == 0:\n",
    "            self.prepend(value)\n",
    "        if index == self.length:\n",
    "            self.append(value)\n",
    "        temp = self.get(index - 1)\n",
    "        node = Node(value)\n",
    "        node.next = temp.next\n",
    "        temp.next = node\n",
    "        self.length += 1\n",
    "        return True\n",
    "\n",
    "    def remove(self, index):\n",
    "        if index < 0 and index >= self.length:\n",
    "            return None\n",
    "        if index == 0:\n",
    "            return self.pop_first()\n",
    "        if index == self.length -1:\n",
    "            return self.pop()\n",
    "        prev = self.get(index - 1)\n",
    "        temp = prev.next\n",
    "        prev.next = temp.next\n",
    "        temp.next = None\n",
    "        self.length -= 1\n",
    "        return temp\n",
    "\n",
    "    def reverse(self):\n",
    "        temp = self.head\n",
    "        self.head = self.tail\n",
    "        self.tail = temp\n",
    "        after = temp.next\n",
    "        before  = None\n",
    "\n",
    "        for _ in range(self.length):\n",
    "            after = temp.next\n",
    "            temp.next = before\n",
    "            before = temp\n",
    "            temp = after\n",
    "\n",
    "    def find_middle_node(self):\n",
    "        slow = self.head\n",
    "        fast = self.head\n",
    "        if self.head:\n",
    "            while fast and fast.next is not None:\n",
    "                fast = fast.next.next\n",
    "                slow = slow.next\n",
    "            return slow\n",
    "        else:\n",
    "            return None\n",
    "\n",
    "\n",
    "\n",
    "l = LinkedList(4)\n",
    "#print(l.head.value)\n",
    "l.append(10)\n",
    "l.print_list()"
   ]
  },
  {
   "cell_type": "markdown",
   "metadata": {},
   "source": [
    "pip install Django"
   ]
  }
 ],
 "metadata": {
  "interpreter": {
   "hash": "b7919e5b123e92094821be646ade47a0ab1dbdf11cdf98098e656c9d8b9a9943"
  },
  "kernelspec": {
   "display_name": "Python 3.8.10 64-bit ('env': venv)",
   "language": "python",
   "name": "python3"
  },
  "language_info": {
   "codemirror_mode": {
    "name": "ipython",
    "version": 3
   },
   "file_extension": ".py",
   "mimetype": "text/x-python",
   "name": "python",
   "nbconvert_exporter": "python",
   "pygments_lexer": "ipython3",
   "version": "3.8.10"
  },
  "orig_nbformat": 4
 },
 "nbformat": 4,
 "nbformat_minor": 2
}
